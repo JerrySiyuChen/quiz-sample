{
 "cells": [
  {
   "cell_type": "code",
   "execution_count": 1,
   "metadata": {
    "scrolled": true
   },
   "outputs": [],
   "source": [
    "from pgmpy.models import BayesianModel\n",
    "from pgmpy.factors.discrete import TabularCPD\n",
    "from pgmpy.inference import VariableElimination"
   ]
  },
  {
   "cell_type": "code",
   "execution_count": 2,
   "metadata": {},
   "outputs": [],
   "source": [
    "valve_model = BayesianModel([('state0', 'state1'),\n",
    "                            ('state1', 'state2'),\n",
    "                            ('state1', 'sensor1'),\n",
    "                            ('state2', 'state3'),\n",
    "                            ('state2', 'sensor2'),\n",
    "                            ('state3','sensor3')])"
   ]
  },
  {
   "cell_type": "code",
   "execution_count": 3,
   "metadata": {},
   "outputs": [
    {
     "data": {
      "text/plain": [
       "<pgmpy.models.BayesianModel.BayesianModel at 0x19ad9730>"
      ]
     },
     "execution_count": 3,
     "metadata": {},
     "output_type": "execute_result"
    }
   ],
   "source": [
    "valve_model"
   ]
  },
  {
   "cell_type": "code",
   "execution_count": 4,
   "metadata": {},
   "outputs": [],
   "source": [
    "#state: 0 is normal 1 is broken\n",
    "#sensor: 0 is normal 1 is broken\n",
    "cpd_state0 = TabularCPD(variable='state0', variable_card=2,\n",
    "                      values=[[1], [0]])\n",
    "cpd_state1 = TabularCPD(variable='state1', variable_card=2,\n",
    "                      values=[[0.8, 0], [0.2, 1]],\n",
    "                      evidence=['state0'], evidence_card=[2])\n",
    "cpd_state2 = TabularCPD(variable='state2', variable_card=2,\n",
    "                      values=[[0.8, 0], [0.2, 1]],\n",
    "                      evidence=['state1'], evidence_card=[2])\n",
    "cpd_state3 = TabularCPD(variable='state3', variable_card=2,\n",
    "                      values=[[0.8, 0], [0.2, 1]],\n",
    "                      evidence=['state2'], evidence_card=[2])\n",
    "cpd_sensor1 = TabularCPD(variable='sensor1', variable_card=2,\n",
    "                      values=[[0.5, 0], [0.5, 1]],\n",
    "                      evidence=['state1'], evidence_card=[2])\n",
    "cpd_sensor2 = TabularCPD(variable='sensor2', variable_card=2,\n",
    "                      values=[[0.5, 0], [0.5, 1]],\n",
    "                      evidence=['state2'], evidence_card=[2])\n",
    "cpd_sensor3 = TabularCPD(variable='sensor3', variable_card=2,\n",
    "                      values=[[0.5, 0], [0.5, 1]],\n",
    "                      evidence=['state3'], evidence_card=[2])"
   ]
  },
  {
   "cell_type": "code",
   "execution_count": 5,
   "metadata": {},
   "outputs": [],
   "source": [
    "valve_model.add_cpds(cpd_state0, cpd_state1, cpd_state2, cpd_state3, cpd_sensor1, cpd_sensor2, cpd_sensor3)"
   ]
  },
  {
   "cell_type": "code",
   "execution_count": 6,
   "metadata": {},
   "outputs": [
    {
     "data": {
      "text/plain": [
       "True"
      ]
     },
     "execution_count": 6,
     "metadata": {},
     "output_type": "execute_result"
    }
   ],
   "source": [
    "valve_model.check_model()"
   ]
  },
  {
   "cell_type": "code",
   "execution_count": 7,
   "metadata": {},
   "outputs": [],
   "source": [
    "valve_infer = VariableElimination(valve_model)"
   ]
  },
  {
   "cell_type": "code",
   "execution_count": 8,
   "metadata": {},
   "outputs": [
    {
     "name": "stderr",
     "output_type": "stream",
     "text": [
      "c:\\program files (x86)\\python36-32\\lib\\site-packages\\pgmpy\\factors\\discrete\\DiscreteFactor.py:586: FutureWarning: Using a non-tuple sequence for multidimensional indexing is deprecated; use `arr[tuple(seq)]` instead of `arr[seq]`. In the future this will be interpreted as an array index, `arr[np.array(seq)]`, which will result either in an error or a different result.\n",
      "  phi.values = phi.values[slice_]\n",
      "c:\\program files (x86)\\python36-32\\lib\\site-packages\\pgmpy\\factors\\discrete\\DiscreteFactor.py:598: FutureWarning: Using a non-tuple sequence for multidimensional indexing is deprecated; use `arr[tuple(seq)]` instead of `arr[seq]`. In the future this will be interpreted as an array index, `arr[np.array(seq)]`, which will result either in an error or a different result.\n",
      "  phi1.values = phi1.values[slice_]\n"
     ]
    }
   ],
   "source": [
    "q = valve_infer.query(variables=['state3'])"
   ]
  },
  {
   "cell_type": "code",
   "execution_count": 9,
   "metadata": {},
   "outputs": [
    {
     "name": "stdout",
     "output_type": "stream",
     "text": [
      "╒══════════╤═══════════════╕\n",
      "│ state3   │   phi(state3) │\n",
      "╞══════════╪═══════════════╡\n",
      "│ state3_0 │        0.5120 │\n",
      "├──────────┼───────────────┤\n",
      "│ state3_1 │        0.4880 │\n",
      "╘══════════╧═══════════════╛\n"
     ]
    }
   ],
   "source": [
    "print(q['state3'])"
   ]
  },
  {
   "cell_type": "code",
   "execution_count": 10,
   "metadata": {},
   "outputs": [],
   "source": [
    "q = valve_infer.query(variables=['state3'], evidence={'sensor2': 1})"
   ]
  },
  {
   "cell_type": "code",
   "execution_count": 11,
   "metadata": {},
   "outputs": [
    {
     "name": "stdout",
     "output_type": "stream",
     "text": [
      "╒══════════╤═══════════════╕\n",
      "│ state3   │   phi(state3) │\n",
      "╞══════════╪═══════════════╡\n",
      "│ state3_0 │        0.3765 │\n",
      "├──────────┼───────────────┤\n",
      "│ state3_1 │        0.6235 │\n",
      "╘══════════╧═══════════════╛\n"
     ]
    }
   ],
   "source": [
    "print(q['state3'])"
   ]
  },
  {
   "cell_type": "code",
   "execution_count": 12,
   "metadata": {},
   "outputs": [],
   "source": [
    "q = valve_infer.query(variables=['state3'], evidence={'sensor1': 1, 'sensor2': 0, 'sensor3': 1})"
   ]
  },
  {
   "cell_type": "code",
   "execution_count": 13,
   "metadata": {},
   "outputs": [
    {
     "name": "stdout",
     "output_type": "stream",
     "text": [
      "╒══════════╤═══════════════╕\n",
      "│ state3   │   phi(state3) │\n",
      "╞══════════╪═══════════════╡\n",
      "│ state3_0 │        0.6667 │\n",
      "├──────────┼───────────────┤\n",
      "│ state3_1 │        0.3333 │\n",
      "╘══════════╧═══════════════╛\n"
     ]
    }
   ],
   "source": [
    "print(q['state3'])"
   ]
  },
  {
   "cell_type": "code",
   "execution_count": 14,
   "metadata": {},
   "outputs": [],
   "source": [
    "q = valve_infer.query(variables=['state3'], evidence={'sensor1': 1, 'sensor2': 1, 'sensor3': 1})"
   ]
  },
  {
   "cell_type": "code",
   "execution_count": 15,
   "metadata": {},
   "outputs": [
    {
     "name": "stdout",
     "output_type": "stream",
     "text": [
      "╒══════════╤═══════════════╕\n",
      "│ state3   │   phi(state3) │\n",
      "╞══════════╪═══════════════╡\n",
      "│ state3_0 │        0.1702 │\n",
      "├──────────┼───────────────┤\n",
      "│ state3_1 │        0.8298 │\n",
      "╘══════════╧═══════════════╛\n"
     ]
    }
   ],
   "source": [
    "print(q['state3'])"
   ]
  },
  {
   "cell_type": "code",
   "execution_count": 16,
   "metadata": {},
   "outputs": [],
   "source": [
    "q = valve_infer.query(variables=['sensor3'], evidence={'state2': 0})"
   ]
  },
  {
   "cell_type": "code",
   "execution_count": 17,
   "metadata": {},
   "outputs": [
    {
     "name": "stdout",
     "output_type": "stream",
     "text": [
      "╒═══════════╤════════════════╕\n",
      "│ sensor3   │   phi(sensor3) │\n",
      "╞═══════════╪════════════════╡\n",
      "│ sensor3_0 │         0.4000 │\n",
      "├───────────┼────────────────┤\n",
      "│ sensor3_1 │         0.6000 │\n",
      "╘═══════════╧════════════════╛\n"
     ]
    }
   ],
   "source": [
    "print(q['sensor3'])"
   ]
  },
  {
   "cell_type": "code",
   "execution_count": null,
   "metadata": {},
   "outputs": [],
   "source": []
  }
 ],
 "metadata": {
  "kernelspec": {
   "display_name": "Python 3",
   "language": "python",
   "name": "python3"
  },
  "language_info": {
   "codemirror_mode": {
    "name": "ipython",
    "version": 3
   },
   "file_extension": ".py",
   "mimetype": "text/x-python",
   "name": "python",
   "nbconvert_exporter": "python",
   "pygments_lexer": "ipython3",
   "version": "3.6.1"
  }
 },
 "nbformat": 4,
 "nbformat_minor": 2
}
